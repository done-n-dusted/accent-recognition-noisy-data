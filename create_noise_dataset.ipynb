{
 "cells": [
  {
   "cell_type": "code",
   "execution_count": null,
   "id": "4ef15630",
   "metadata": {},
   "outputs": [],
   "source": [
    "# Notebook accompanying creating noisy audios. \n",
    "# Instead of function, this notebook uses the description"
   ]
  },
  {
   "cell_type": "code",
   "execution_count": 1,
   "id": "ce0d6d42",
   "metadata": {},
   "outputs": [],
   "source": [
    "import augly.audio as audaugs\n",
    "import os\n",
    "import pandas as pd\n",
    "from tqdm import tqdm\n",
    "import soundfile as sf\n",
    "import numpy as np"
   ]
  },
  {
   "cell_type": "code",
   "execution_count": 2,
   "id": "e4442b32",
   "metadata": {},
   "outputs": [],
   "source": [
    "# Set the input and output directories\n",
    "input_dir = \"raw\"\n",
    "# output_dir = \"train/\"\n",
    "\n",
    "# Define the paths to the babble and cafe noise files\n",
    "babble_path = \"noises/river.wav\"\n",
    "cafe_path = \"noises/cafe.wav\"\n",
    "white = 'noises/white.wav'\n",
    "\n",
    "# Calculate the noise levels corresponding to 10 dB and -10 dB SNR\n",
    "nl1 = 20 ** (10 / 20) # 20 dB SNR\n",
    "nl2 = 20 ** (-10 / 20) # -20 dB SNR"
   ]
  },
  {
   "cell_type": "code",
   "execution_count": 3,
   "id": "07fe7762",
   "metadata": {},
   "outputs": [],
   "source": [
    "train_df = pd.read_csv('original_train_data.csv')\n",
    "test_df = pd.read_csv('original_test_data.csv')"
   ]
  },
  {
   "cell_type": "code",
   "execution_count": 4,
   "id": "69464b23",
   "metadata": {},
   "outputs": [
    {
     "data": {
      "text/html": [
       "<div>\n",
       "<style scoped>\n",
       "    .dataframe tbody tr th:only-of-type {\n",
       "        vertical-align: middle;\n",
       "    }\n",
       "\n",
       "    .dataframe tbody tr th {\n",
       "        vertical-align: top;\n",
       "    }\n",
       "\n",
       "    .dataframe thead th {\n",
       "        text-align: right;\n",
       "    }\n",
       "</style>\n",
       "<table border=\"1\" class=\"dataframe\">\n",
       "  <thead>\n",
       "    <tr style=\"text-align: right;\">\n",
       "      <th></th>\n",
       "      <th>label</th>\n",
       "      <th>fname</th>\n",
       "      <th>speaker</th>\n",
       "      <th>location</th>\n",
       "    </tr>\n",
       "  </thead>\n",
       "  <tbody>\n",
       "    <tr>\n",
       "      <th>0</th>\n",
       "      <td>australian</td>\n",
       "      <td>australian_s01_619.wav</td>\n",
       "      <td>speaker_01</td>\n",
       "      <td>australian/speaker_01/australian_s01_619.wav</td>\n",
       "    </tr>\n",
       "    <tr>\n",
       "      <th>1</th>\n",
       "      <td>british</td>\n",
       "      <td>british_s01_481.wav</td>\n",
       "      <td>speaker_01</td>\n",
       "      <td>british/speaker_01/british_s01_481.wav</td>\n",
       "    </tr>\n",
       "    <tr>\n",
       "      <th>2</th>\n",
       "      <td>indian</td>\n",
       "      <td>indian_s01_554.wav</td>\n",
       "      <td>speaker_01</td>\n",
       "      <td>indian/speaker_01/indian_s01_554.wav</td>\n",
       "    </tr>\n",
       "    <tr>\n",
       "      <th>3</th>\n",
       "      <td>british</td>\n",
       "      <td>british_s02_243.wav</td>\n",
       "      <td>speaker_02</td>\n",
       "      <td>british/speaker_02/british_s02_243.wav</td>\n",
       "    </tr>\n",
       "    <tr>\n",
       "      <th>4</th>\n",
       "      <td>american</td>\n",
       "      <td>american_s02_577.wav</td>\n",
       "      <td>speaker_02</td>\n",
       "      <td>american/speaker_02/american_s02_577.wav</td>\n",
       "    </tr>\n",
       "    <tr>\n",
       "      <th>...</th>\n",
       "      <td>...</td>\n",
       "      <td>...</td>\n",
       "      <td>...</td>\n",
       "      <td>...</td>\n",
       "    </tr>\n",
       "    <tr>\n",
       "      <th>4743</th>\n",
       "      <td>british</td>\n",
       "      <td>british_s02_507.wav</td>\n",
       "      <td>speaker_02</td>\n",
       "      <td>british/speaker_02/british_s02_507.wav</td>\n",
       "    </tr>\n",
       "    <tr>\n",
       "      <th>4744</th>\n",
       "      <td>american</td>\n",
       "      <td>american_s01_128.wav</td>\n",
       "      <td>speaker_01</td>\n",
       "      <td>american/speaker_01/american_s01_128.wav</td>\n",
       "    </tr>\n",
       "    <tr>\n",
       "      <th>4745</th>\n",
       "      <td>australian</td>\n",
       "      <td>australian_s02_717.wav</td>\n",
       "      <td>speaker_02</td>\n",
       "      <td>australian/speaker_02/australian_s02_717.wav</td>\n",
       "    </tr>\n",
       "    <tr>\n",
       "      <th>4746</th>\n",
       "      <td>indian</td>\n",
       "      <td>indian_s02_385.wav</td>\n",
       "      <td>speaker_02</td>\n",
       "      <td>indian/speaker_02/indian_s02_385.wav</td>\n",
       "    </tr>\n",
       "    <tr>\n",
       "      <th>4747</th>\n",
       "      <td>australian</td>\n",
       "      <td>australian_s02_527.wav</td>\n",
       "      <td>speaker_02</td>\n",
       "      <td>australian/speaker_02/australian_s02_527.wav</td>\n",
       "    </tr>\n",
       "  </tbody>\n",
       "</table>\n",
       "<p>4748 rows × 4 columns</p>\n",
       "</div>"
      ],
      "text/plain": [
       "           label                   fname     speaker  \\\n",
       "0     australian  australian_s01_619.wav  speaker_01   \n",
       "1        british     british_s01_481.wav  speaker_01   \n",
       "2         indian      indian_s01_554.wav  speaker_01   \n",
       "3        british     british_s02_243.wav  speaker_02   \n",
       "4       american    american_s02_577.wav  speaker_02   \n",
       "...          ...                     ...         ...   \n",
       "4743     british     british_s02_507.wav  speaker_02   \n",
       "4744    american    american_s01_128.wav  speaker_01   \n",
       "4745  australian  australian_s02_717.wav  speaker_02   \n",
       "4746      indian      indian_s02_385.wav  speaker_02   \n",
       "4747  australian  australian_s02_527.wav  speaker_02   \n",
       "\n",
       "                                          location  \n",
       "0     australian/speaker_01/australian_s01_619.wav  \n",
       "1           british/speaker_01/british_s01_481.wav  \n",
       "2             indian/speaker_01/indian_s01_554.wav  \n",
       "3           british/speaker_02/british_s02_243.wav  \n",
       "4         american/speaker_02/american_s02_577.wav  \n",
       "...                                            ...  \n",
       "4743        british/speaker_02/british_s02_507.wav  \n",
       "4744      american/speaker_01/american_s01_128.wav  \n",
       "4745  australian/speaker_02/australian_s02_717.wav  \n",
       "4746          indian/speaker_02/indian_s02_385.wav  \n",
       "4747  australian/speaker_02/australian_s02_527.wav  \n",
       "\n",
       "[4748 rows x 4 columns]"
      ]
     },
     "execution_count": 4,
     "metadata": {},
     "output_type": "execute_result"
    }
   ],
   "source": [
    "train_df"
   ]
  },
  {
   "cell_type": "code",
   "execution_count": 5,
   "id": "53026ddb",
   "metadata": {},
   "outputs": [],
   "source": [
    "train_fnames = ['raw/' + x for x in train_df['location']]\n",
    "test_fnames = ['raw/' + x for x in test_df['location']]"
   ]
  },
  {
   "cell_type": "code",
   "execution_count": 8,
   "id": "6cf961a9",
   "metadata": {},
   "outputs": [
    {
     "name": "stderr",
     "output_type": "stream",
     "text": [
      "100%|█████████████████████████████████████████████████████████████████████████████████████████████████████████████████| 4748/4748 [11:28<00:00,  6.90it/s]\n"
     ]
    }
   ],
   "source": [
    "for i in tqdm(range(len(train_df))):\n",
    "    aud_file = 'raw/' + train_df.loc[i]['location']\n",
    "    out_fname = train_df.loc[i]['fname']\n",
    "    audio, sample_rate = sf.read(aud_file)\n",
    "    audio = np.array(audio)\n",
    "    aug_audio, _ = audaugs.add_background_noise(audio, background_audio=babble_path, snr_level_db=nl1)\n",
    "    aug_audio = np.mean(aug_audio, axis = 0)\n",
    "    sf.write('train/' + out_fname[:-4] + '_babble_plus10db.wav', aug_audio, sample_rate)\n",
    "    aug_audio, _ = audaugs.add_background_noise(audio, background_audio=babble_path, snr_level_db=nl2)\n",
    "    aug_audio = np.mean(aug_audio, axis = 0)\n",
    "    sf.write('train/' + out_fname[:-4] + '_babble_minus10db.wav', aug_audio, sample_rate)\n",
    "#     os.system('cp ' + aud_file + ' train/' + out_fname)"
   ]
  },
  {
   "cell_type": "code",
   "execution_count": 7,
   "id": "bac8d958",
   "metadata": {},
   "outputs": [
    {
     "name": "stderr",
     "output_type": "stream",
     "text": [
      "100%|█████████████████████████████████████████████████████████████████████████████████████████████████████████████████| 1188/1188 [00:59<00:00, 19.84it/s]\n"
     ]
    }
   ],
   "source": [
    "for i in tqdm(range(len(test_df))):\n",
    "    aud_file = 'raw/' + test_df.loc[i]['location']\n",
    "    out_fname = test_df.loc[i]['fname']\n",
    "    audio, sample_rate = sf.read(aud_file)\n",
    "    audio = np.array(audio)\n",
    "    aug_audio, _ = audaugs.add_background_noise(audio, background_audio=cafe_path, snr_level_db=nl1)\n",
    "    aug_audio = np.mean(aug_audio, axis = 0)\n",
    "    sf.write('test/' + out_fname[:-4] + '_cafe_plus10db.wav', aug_audio, sample_rate)\n",
    "    aug_audio, _ = audaugs.add_background_noise(audio, background_audio=cafe_path, snr_level_db=nl2)\n",
    "    aug_audio = np.mean(aug_audio, axis = 0)\n",
    "    sf.write('test/' + out_fname[:-4] + '_cafe_minus10db.wav', aug_audio, sample_rate)\n",
    "#     os.system('cp ' + aud_file + ' test/' + out_fname)"
   ]
  },
  {
   "cell_type": "code",
   "execution_count": 6,
   "id": "a8accbe3",
   "metadata": {},
   "outputs": [
    {
     "name": "stderr",
     "output_type": "stream",
     "text": [
      "100%|███████████████████████████████████████████████████████████████████████████████████████████████████████████████████████████████████████| 1188/1188 [01:00<00:00, 19.73it/s]\n"
     ]
    }
   ],
   "source": [
    "for i in tqdm(range(len(test_df))):\n",
    "    aud_file = 'raw/' + test_df.loc[i]['location']\n",
    "    out_fname = test_df.loc[i]['fname']\n",
    "    audio, sample_rate = sf.read(aud_file)\n",
    "    audio = np.array(audio)\n",
    "    aug_audio, _ = audaugs.add_background_noise(audio, background_audio=white, snr_level_db=nl1)\n",
    "    aug_audio = np.mean(aug_audio, axis = 0)\n",
    "    sf.write('white/' + out_fname[:-4] + '_white_plus20db.wav', aug_audio, sample_rate)\n",
    "    aug_audio, _ = audaugs.add_background_noise(audio, background_audio=white, snr_level_db=nl2)\n",
    "    aug_audio = np.mean(aug_audio, axis = 0)\n",
    "    sf.write('white/' + out_fname[:-4] + '_white_minus20db.wav', aug_audio, sample_rate)\n",
    "#     os.system('cp ' + aud_file + ' test/' + out_fname)"
   ]
  },
  {
   "cell_type": "code",
   "execution_count": null,
   "id": "ddac153e",
   "metadata": {},
   "outputs": [],
   "source": []
  }
 ],
 "metadata": {
  "kernelspec": {
   "display_name": "Python 3 (ipykernel)",
   "language": "python",
   "name": "python3"
  },
  "language_info": {
   "codemirror_mode": {
    "name": "ipython",
    "version": 3
   },
   "file_extension": ".py",
   "mimetype": "text/x-python",
   "name": "python",
   "nbconvert_exporter": "python",
   "pygments_lexer": "ipython3",
   "version": "3.9.15"
  }
 },
 "nbformat": 4,
 "nbformat_minor": 5
}
